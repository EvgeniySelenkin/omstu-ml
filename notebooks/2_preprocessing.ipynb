{
 "metadata": {
  "language_info": {
   "codemirror_mode": {
    "name": "ipython",
    "version": 3
   },
   "file_extension": ".py",
   "mimetype": "text/x-python",
   "name": "python",
   "nbconvert_exporter": "python",
   "pygments_lexer": "ipython3",
   "version": "3.8.1-final"
  },
  "orig_nbformat": 2,
  "kernelspec": {
   "name": "python3",
   "display_name": "Python 3.8.1 32-bit",
   "metadata": {
    "interpreter": {
     "hash": "695b1f7a76350b638bc211ddc0a8c020178bd33c6accaf98e67dad4853a46d39"
    }
   }
  }
 },
 "nbformat": 4,
 "nbformat_minor": 2,
 "cells": [
  {
   "cell_type": "code",
   "execution_count": 18,
   "metadata": {},
   "outputs": [],
   "source": [
    "import numpy as np\n",
    "import pandas as pd\n",
    "from sklearn.model_selection import train_test_split\n",
    "from sklearn.model_selection import GridSearchCV\n",
    "from sklearn.metrics import roc_auc_score\n",
    "from sklearn.linear_model import LogisticRegression\n",
    "from matplotlib import pyplot as plt\n",
    "from sklearn.svm import SVC\n",
    "from sklearn.neighbors import KNeighborsClassifier\n",
    "from sklearn.naive_bayes import ComplementNB\n",
    "from sklearn.metrics import precision_score, recall_score, accuracy_score\n",
    "from sklearn.metrics import f1_score\n",
    "from sklearn.metrics import log_loss\n",
    "%matplotlib inline"
   ]
  },
  {
   "cell_type": "code",
   "execution_count": 19,
   "metadata": {},
   "outputs": [],
   "source": [
    "data = pd.read_csv('../data/hr_analytics.csv')"
   ]
  },
  {
   "cell_type": "code",
   "execution_count": 20,
   "metadata": {},
   "outputs": [
    {
     "output_type": "stream",
     "name": "stdout",
     "text": [
      "<class 'pandas.core.frame.DataFrame'>\nRangeIndex: 21287 entries, 0 to 21286\nData columns (total 14 columns):\n #   Column                  Non-Null Count  Dtype  \n---  ------                  --------------  -----  \n 0   enrollee_id             21287 non-null  int64  \n 1   city                    21287 non-null  object \n 2   city_development_index  21287 non-null  float64\n 3   gender                  16271 non-null  object \n 4   relevent_experience     21287 non-null  object \n 5   enrolled_university     20870 non-null  object \n 6   education_level         20775 non-null  object \n 7   major_discipline        18162 non-null  object \n 8   experience              21217 non-null  object \n 9   company_size            14727 non-null  object \n 10  company_type            14513 non-null  object \n 11  last_new_job            20824 non-null  object \n 12  training_hours          21287 non-null  int64  \n 13  target                  21287 non-null  float64\ndtypes: float64(2), int64(2), object(10)\nmemory usage: 1.5+ MB\n"
     ]
    }
   ],
   "source": [
    "data.info()"
   ]
  },
  {
   "source": [
    "Как можно заметить датасет состоит в основном из категориальных признаков и только в них есть пропущенные значения, поэтому заменим их все на NA. Кроме того мы имеем бинарный признак \"Пол\", но обработаем его как обычный, так как пропусков в этом атрибуте много и попробуем модель обучить и для случая с неизвестным полом."
   ],
   "cell_type": "markdown",
   "metadata": {}
  },
  {
   "cell_type": "code",
   "execution_count": 21,
   "metadata": {},
   "outputs": [
    {
     "output_type": "stream",
     "name": "stdout",
     "text": [
      "<class 'pandas.core.frame.DataFrame'>\nRangeIndex: 21287 entries, 0 to 21286\nData columns (total 14 columns):\n #   Column                  Non-Null Count  Dtype  \n---  ------                  --------------  -----  \n 0   enrollee_id             21287 non-null  int64  \n 1   city                    21287 non-null  object \n 2   city_development_index  21287 non-null  float64\n 3   gender                  21287 non-null  object \n 4   relevent_experience     21287 non-null  object \n 5   enrolled_university     21287 non-null  object \n 6   education_level         21287 non-null  object \n 7   major_discipline        21287 non-null  object \n 8   experience              21287 non-null  object \n 9   company_size            21287 non-null  object \n 10  company_type            21287 non-null  object \n 11  last_new_job            21287 non-null  object \n 12  training_hours          21287 non-null  int64  \n 13  target                  21287 non-null  float64\ndtypes: float64(2), int64(2), object(10)\nmemory usage: 1.5+ MB\n"
     ]
    }
   ],
   "source": [
    "data = data.fillna('NA')\n",
    "data.info()"
   ]
  },
  {
   "source": [
    "Заполнили пропуски и теперь перейдем к кодированию. Сначала создадим массив всех категориальных признаков для удобной работы и произведем кодирование."
   ],
   "cell_type": "markdown",
   "metadata": {}
  },
  {
   "cell_type": "code",
   "execution_count": 29,
   "metadata": {},
   "outputs": [
    {
     "output_type": "stream",
     "name": "stdout",
     "text": [
      "<class 'pandas.core.frame.DataFrame'>\nRangeIndex: 21287 entries, 0 to 21286\nColumns: 196 entries, enrollee_id to last_new_job_never\ndtypes: float64(2), int64(2), uint8(192)\nmemory usage: 4.5 MB\n"
     ]
    }
   ],
   "source": [
    "cat = ['city', 'gender', 'relevent_experience', 'enrolled_university', 'education_level', 'major_discipline', 'experience', 'company_size', 'company_type', 'last_new_job']\n",
    "data1 = pd.get_dummies(data[cat])\n",
    "data_drop = data.drop(cat, axis=1)\n",
    "data_final = pd.concat([data_drop, data1], axis=1)\n",
    "data_final.to_csv('../data/hr_analytics_preprocessed.csv')\n",
    "data_final.info()"
   ]
  },
  {
   "cell_type": "code",
   "execution_count": 23,
   "metadata": {},
   "outputs": [
    {
     "output_type": "execute_result",
     "data": {
      "text/plain": [
       "   enrollee_id  city_development_index  training_hours  target  city_city_1  \\\n",
       "0         8949                   0.920              36     1.0            0   \n",
       "1        29725                   0.776              47     0.0            0   \n",
       "2        11561                   0.624              83     0.0            0   \n",
       "3        33241                   0.789              52     1.0            0   \n",
       "4          666                   0.767               8     0.0            0   \n",
       "\n",
       "   city_city_10  city_city_100  city_city_101  city_city_102  city_city_103  \\\n",
       "0             0              0              0              0              1   \n",
       "1             0              0              0              0              0   \n",
       "2             0              0              0              0              0   \n",
       "3             0              0              0              0              0   \n",
       "4             0              0              0              0              0   \n",
       "\n",
       "   ...  company_type_Other  company_type_Public Sector  company_type_Pvt Ltd  \\\n",
       "0  ...                   0                           0                     0   \n",
       "1  ...                   0                           0                     1   \n",
       "2  ...                   0                           0                     0   \n",
       "3  ...                   0                           0                     1   \n",
       "4  ...                   0                           0                     0   \n",
       "\n",
       "   last_new_job_1  last_new_job_2  last_new_job_3  last_new_job_4  \\\n",
       "0               1               0               0               0   \n",
       "1               0               0               0               0   \n",
       "2               0               0               0               0   \n",
       "3               0               0               0               0   \n",
       "4               0               0               0               1   \n",
       "\n",
       "   last_new_job_>4  last_new_job_NA  last_new_job_never  \n",
       "0                0                0                   0  \n",
       "1                1                0                   0  \n",
       "2                0                0                   1  \n",
       "3                0                0                   1  \n",
       "4                0                0                   0  \n",
       "\n",
       "[5 rows x 196 columns]"
      ],
      "text/html": "<div>\n<style scoped>\n    .dataframe tbody tr th:only-of-type {\n        vertical-align: middle;\n    }\n\n    .dataframe tbody tr th {\n        vertical-align: top;\n    }\n\n    .dataframe thead th {\n        text-align: right;\n    }\n</style>\n<table border=\"1\" class=\"dataframe\">\n  <thead>\n    <tr style=\"text-align: right;\">\n      <th></th>\n      <th>enrollee_id</th>\n      <th>city_development_index</th>\n      <th>training_hours</th>\n      <th>target</th>\n      <th>city_city_1</th>\n      <th>city_city_10</th>\n      <th>city_city_100</th>\n      <th>city_city_101</th>\n      <th>city_city_102</th>\n      <th>city_city_103</th>\n      <th>...</th>\n      <th>company_type_Other</th>\n      <th>company_type_Public Sector</th>\n      <th>company_type_Pvt Ltd</th>\n      <th>last_new_job_1</th>\n      <th>last_new_job_2</th>\n      <th>last_new_job_3</th>\n      <th>last_new_job_4</th>\n      <th>last_new_job_&gt;4</th>\n      <th>last_new_job_NA</th>\n      <th>last_new_job_never</th>\n    </tr>\n  </thead>\n  <tbody>\n    <tr>\n      <th>0</th>\n      <td>8949</td>\n      <td>0.920</td>\n      <td>36</td>\n      <td>1.0</td>\n      <td>0</td>\n      <td>0</td>\n      <td>0</td>\n      <td>0</td>\n      <td>0</td>\n      <td>1</td>\n      <td>...</td>\n      <td>0</td>\n      <td>0</td>\n      <td>0</td>\n      <td>1</td>\n      <td>0</td>\n      <td>0</td>\n      <td>0</td>\n      <td>0</td>\n      <td>0</td>\n      <td>0</td>\n    </tr>\n    <tr>\n      <th>1</th>\n      <td>29725</td>\n      <td>0.776</td>\n      <td>47</td>\n      <td>0.0</td>\n      <td>0</td>\n      <td>0</td>\n      <td>0</td>\n      <td>0</td>\n      <td>0</td>\n      <td>0</td>\n      <td>...</td>\n      <td>0</td>\n      <td>0</td>\n      <td>1</td>\n      <td>0</td>\n      <td>0</td>\n      <td>0</td>\n      <td>0</td>\n      <td>1</td>\n      <td>0</td>\n      <td>0</td>\n    </tr>\n    <tr>\n      <th>2</th>\n      <td>11561</td>\n      <td>0.624</td>\n      <td>83</td>\n      <td>0.0</td>\n      <td>0</td>\n      <td>0</td>\n      <td>0</td>\n      <td>0</td>\n      <td>0</td>\n      <td>0</td>\n      <td>...</td>\n      <td>0</td>\n      <td>0</td>\n      <td>0</td>\n      <td>0</td>\n      <td>0</td>\n      <td>0</td>\n      <td>0</td>\n      <td>0</td>\n      <td>0</td>\n      <td>1</td>\n    </tr>\n    <tr>\n      <th>3</th>\n      <td>33241</td>\n      <td>0.789</td>\n      <td>52</td>\n      <td>1.0</td>\n      <td>0</td>\n      <td>0</td>\n      <td>0</td>\n      <td>0</td>\n      <td>0</td>\n      <td>0</td>\n      <td>...</td>\n      <td>0</td>\n      <td>0</td>\n      <td>1</td>\n      <td>0</td>\n      <td>0</td>\n      <td>0</td>\n      <td>0</td>\n      <td>0</td>\n      <td>0</td>\n      <td>1</td>\n    </tr>\n    <tr>\n      <th>4</th>\n      <td>666</td>\n      <td>0.767</td>\n      <td>8</td>\n      <td>0.0</td>\n      <td>0</td>\n      <td>0</td>\n      <td>0</td>\n      <td>0</td>\n      <td>0</td>\n      <td>0</td>\n      <td>...</td>\n      <td>0</td>\n      <td>0</td>\n      <td>0</td>\n      <td>0</td>\n      <td>0</td>\n      <td>0</td>\n      <td>1</td>\n      <td>0</td>\n      <td>0</td>\n      <td>0</td>\n    </tr>\n  </tbody>\n</table>\n<p>5 rows × 196 columns</p>\n</div>"
     },
     "metadata": {},
     "execution_count": 23
    }
   ],
   "source": [
    "data_final.head()"
   ]
  },
  {
   "source": [
    "Датасет перекодирован, теперь перейдем к разбиению на выборки и обучению моделей. Но сначала отделим признаки от целевого атрибута."
   ],
   "cell_type": "markdown",
   "metadata": {}
  },
  {
   "cell_type": "code",
   "execution_count": 24,
   "metadata": {},
   "outputs": [],
   "source": [
    "X = data_final.drop(['target'], axis=1)\n",
    "y = data_final['target'].astype(int)\n",
    "\n",
    "X_train, X_test, y_train, y_test = train_test_split(X, y, test_size=0.3, stratify=y, random_state=0) #разобьем выборку в соотношении 7/3 и стратифицируем ее, кроме того установим random_state=0 для повторения данной операции"
   ]
  },
  {
   "source": [
    "Начнем с логистической регрессии. Будем подбирать параметры с помощью крос-валидации. Найдем предсказания по тестовой выборке и оценим его по точности, полноте, доле правильных ответов, метриках f1, log_loss и auc. При сравнении будем основываться в первую очередь на метрике auc, так как остальные метрики оценивают модели с одной стороны, а log_loss в принципе сложно интерпретировать."
   ],
   "cell_type": "markdown",
   "metadata": {}
  },
  {
   "cell_type": "code",
   "execution_count": 25,
   "metadata": {},
   "outputs": [
    {
     "output_type": "stream",
     "name": "stdout",
     "text": [
      "точность= 0.5772946859903382\nполнота= 0.16678297278436846\nколичество правильных ответов= 0.7856583685611398\nf1= 0.2587980508933405\nlog_loss= 7.40311958888101\nauc= 0.5657289914386113\n"
     ]
    }
   ],
   "source": [
    "param_grid = {'C': [0.01, 0.05, 0.1, 0.5, 1, 5, 10]}\n",
    "cv = 3\n",
    "estimator = LogisticRegression(solver='liblinear')#Выбираем классификатор\n",
    "optimizer = GridSearchCV(estimator, param_grid, cv=cv)#создаем сетку для поиска гиперпараметров\n",
    "optimizer.fit(X_train, y_train)#обучаем классификатор\n",
    "predict = optimizer.predict(X_test)#предсказываем результат по тестовой выборке\n",
    "\n",
    "print('точность=', precision_score(y_test, predict))\n",
    "print('полнота=', recall_score(y_test, predict))\n",
    "print('доля правильных ответов=', accuracy_score(y_test, predict))\n",
    "print('f1=', f1_score(y_test, predict))\n",
    "print('log_loss=', log_loss(y_test, predict))\n",
    "print('auc=', roc_auc_score(y_test, predict))"
   ]
  },
  {
   "source": [
    "Получили качество примерно 56% посмотрим на другие модели."
   ],
   "cell_type": "markdown",
   "metadata": {}
  },
  {
   "cell_type": "code",
   "execution_count": 26,
   "metadata": {},
   "outputs": [
    {
     "output_type": "stream",
     "name": "stdout",
     "text": [
      "точность= 0.25\nполнота= 0.020237264480111653\nколичество правильных ответов= 0.7665570690465007\nf1= 0.03744351194318915\nlog_loss= 8.06284408482672\nauc= 0.5013378490345652\n"
     ]
    }
   ],
   "source": [
    "param_grid = {'n_neighbors': [1, 3, 5, 10, 15],\n",
    "              'leaf_size': [15, 30, 50, 100]}\n",
    "cv = 3\n",
    "estimator = KNeighborsClassifier()\n",
    "optimizer = GridSearchCV(estimator, param_grid, cv=cv)\n",
    "optimizer.fit(X_train, y_train)\n",
    "predict = optimizer.predict(X_test)\n",
    "\n",
    "print('точность=', precision_score(y_test, predict))\n",
    "print('полнота=', recall_score(y_test, predict))\n",
    "print('доля правильных ответов=', accuracy_score(y_test, predict))\n",
    "print('f1=', f1_score(y_test, predict))\n",
    "print('log_loss=', log_loss(y_test, predict))\n",
    "print('auc=', roc_auc_score(y_test, predict))"
   ]
  },
  {
   "source": [
    "С помощью модели KNeighborsClassifier получили качество примерно 50%"
   ],
   "cell_type": "markdown",
   "metadata": {}
  },
  {
   "cell_type": "code",
   "execution_count": 27,
   "metadata": {},
   "outputs": [
    {
     "output_type": "stream",
     "name": "stdout",
     "text": [
      "точность= 0.2728122080348801\nполнота= 0.6113049546406141\nколичество правильных ответов= 0.5472052606857679\nf1= 0.3772609819121447\nlog_loss= 15.639268575869924\nauc= 0.569984330368349\n"
     ]
    }
   ],
   "source": [
    "param_grid = {'alpha': [0.1, 0.5, 1, 2, 5]}\n",
    "cv = 3\n",
    "estimator = ComplementNB()\n",
    "optimizer = GridSearchCV(estimator, param_grid, cv=cv)\n",
    "optimizer.fit(X_train, y_train)\n",
    "predict = optimizer.predict(X_test)\n",
    "\n",
    "print('точность=', precision_score(y_test, predict))\n",
    "print('полнота=', recall_score(y_test, predict))\n",
    "print('доля правильных ответов=', accuracy_score(y_test, predict))\n",
    "print('f1=', f1_score(y_test, predict))\n",
    "print('log_loss=', log_loss(y_test, predict))\n",
    "print('auc=', roc_auc_score(y_test, predict))"
   ]
  },
  {
   "source": [
    "С помощью модели ComplementNB получили качество 57%"
   ],
   "cell_type": "markdown",
   "metadata": {}
  },
  {
   "cell_type": "code",
   "execution_count": 28,
   "metadata": {},
   "outputs": [
    {
     "output_type": "stream",
     "name": "stdout",
     "text": [
      "точность= 0.0\n",
      "полнота= 0.0\n",
      "количество правильных ответов= 0.7756380147173947\n",
      "f1= 0.0\n",
      "log_loss= 7.749188441194146\n",
      "auc= 0.5\n",
      "C:\\Users\\evgen\\AppData\\Local\\Programs\\Python\\Python38-32\\lib\\site-packages\\sklearn\\metrics\\_classification.py:1272: UndefinedMetricWarning: Precision is ill-defined and being set to 0.0 due to no predicted samples. Use `zero_division` parameter to control this behavior.\n",
      "  _warn_prf(average, modifier, msg_start, len(result))\n"
     ]
    }
   ],
   "source": [
    "param_grid = {'C': [0.01, 0.05, 0.1, 0.5, 1, 5, 10]}\n",
    "cv = 3\n",
    "estimator = SVC()\n",
    "optimizer = GridSearchCV(estimator, param_grid, cv=cv)\n",
    "optimizer.fit(X_train, y_train)\n",
    "predict = optimizer.predict(X_test)\n",
    "\n",
    "print('точность=', precision_score(y_test, predict))\n",
    "print('полнота=', recall_score(y_test, predict))\n",
    "print('доля правильных ответов=', accuracy_score(y_test, predict))\n",
    "print('f1=', f1_score(y_test, predict))\n",
    "print('log_loss=', log_loss(y_test, predict))\n",
    "print('auc=', roc_auc_score(y_test, predict))"
   ]
  },
  {
   "source": [
    "Получили качество 50%.\n",
    "Теперь можем сделать вывод, что для наших данных и выбранных гиперпараметров лучшими моделями оказались LR и ComplementNB у них по метрике auc почество примерно 56-57%, что не является очень хорошим результатом для проверки хочет ли сменить работу человек или нет."
   ],
   "cell_type": "markdown",
   "metadata": {}
  }
 ]
}